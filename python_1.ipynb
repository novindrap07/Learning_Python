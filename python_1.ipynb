{
 "cells": [
  {
   "cell_type": "markdown",
   "metadata": {},
   "source": [
    "# Learning Python (Part 1)"
   ]
  },
  {
   "cell_type": "markdown",
   "metadata": {},
   "source": [
    "### Sesi pertama ini kita akan mempelajari hal - hal dasar pada pemrograman python :\n",
    "#### 1. First \"print\"\n",
    "#### 2. I/O\n",
    "#### 3. Tipe Data dan Operator"
   ]
  },
  {
   "cell_type": "markdown",
   "metadata": {},
   "source": [
    "#### Sebelumnya download dan install di\n",
    "http://www.python.org/download"
   ]
  },
  {
   "cell_type": "markdown",
   "metadata": {},
   "source": [
    "### 1. First \"print\""
   ]
  },
  {
   "cell_type": "code",
   "execution_count": 2,
   "metadata": {},
   "outputs": [
    {
     "name": "stdout",
     "output_type": "stream",
     "text": [
      "hello world\n"
     ]
    }
   ],
   "source": [
    "# Mencetak \"Hello World\"\n",
    "print (\"hello world\")"
   ]
  },
  {
   "cell_type": "code",
   "execution_count": 6,
   "metadata": {},
   "outputs": [
    {
     "name": "stdout",
     "output_type": "stream",
     "text": [
      "6666\n",
      "624423534643\n"
     ]
    }
   ],
   "source": [
    "# Mencetak Angka\n",
    "print (6666)\n",
    "print (624423534643) # <- Terserah sih... wkwk"
   ]
  },
  {
   "cell_type": "code",
   "execution_count": 8,
   "metadata": {},
   "outputs": [
    {
     "name": "stdout",
     "output_type": "stream",
     "text": [
      "Nama saya N.Pras\n"
     ]
    }
   ],
   "source": [
    "# Mencetak Variabel\n",
    "a = \"Nama saya N.Pras\"\n",
    "print (a)"
   ]
  },
  {
   "cell_type": "code",
   "execution_count": 27,
   "metadata": {},
   "outputs": [
    {
     "name": "stdout",
     "output_type": "stream",
     "text": [
      "30\n"
     ]
    }
   ],
   "source": [
    "# Mencetak langsung sebuah operasi bilangan\n",
    "panjang = 10\n",
    "lebar = 5\n",
    "print ((2*panjang)+(2*lebar))"
   ]
  },
  {
   "cell_type": "code",
   "execution_count": 32,
   "metadata": {},
   "outputs": [
    {
     "name": "stdout",
     "output_type": "stream",
     "text": [
      "Nama saya adalah Azhea\n",
      "Teman Azhea Itu baik hati\n",
      "Azhea adalah seorang pria asal Rusia\n"
     ]
    }
   ],
   "source": [
    "# Mencetak sebuah variabel dan string dengan menggunakan koma\n",
    "nama = \"Azhea\"\n",
    "nama\n",
    "\n",
    "# Cetak diakhir\n",
    "print (\"Nama saya adalah\", nama)\n",
    "\n",
    "# Cetak ditengah\n",
    "print ((\"Teman\"), nama, (\"Itu baik hati\"))\n",
    "\n",
    "# Cetak diawal\n",
    "print (nama, \"adalah seorang pria asal Rusia\")"
   ]
  },
  {
   "cell_type": "code",
   "execution_count": 33,
   "metadata": {},
   "outputs": [
    {
     "name": "stdout",
     "output_type": "stream",
     "text": [
      "Belajar bahasa pemrograman\n",
      "Python itu mudah sekali\n",
      "karena sudah mempunyai dokumentasi yang lengkap\n"
     ]
    }
   ],
   "source": [
    "# mencetak banyak baris\n",
    "print (\"Belajar bahasa pemrograman\")\n",
    "print (\"Python itu mudah sekali\")\n",
    "print (\"karena sudah mempunyai dokumentasi yang lengkap\")"
   ]
  },
  {
   "cell_type": "code",
   "execution_count": 35,
   "metadata": {},
   "outputs": [
    {
     "name": "stdout",
     "output_type": "stream",
     "text": [
      "Belajar bahasa pemrograman \n",
      "Python itu mudah sekali \n",
      "karena sudah mempunyai dokumentasi yang lengkap\n"
     ]
    }
   ],
   "source": [
    "# mencetak banyak baris dalam satu kali print\n",
    "print (\"Belajar bahasa pemrograman \\nPython itu mudah sekali \\nkarena sudah mempunyai dokumentasi yang lengkap\")"
   ]
  },
  {
   "cell_type": "markdown",
   "metadata": {},
   "source": [
    "### 2. I/O"
   ]
  },
  {
   "cell_type": "code",
   "execution_count": 13,
   "metadata": {},
   "outputs": [
    {
     "name": "stdin",
     "output_type": "stream",
     "text": [
      "masukkan nama anda :  Azhea\n",
      "panjang :  32\n",
      "y :  32\n"
     ]
    },
    {
     "name": "stdout",
     "output_type": "stream",
     "text": [
      "Nama Anda adalah  Azhea\n",
      "1024\n"
     ]
    }
   ],
   "source": [
    "# Menginputkan nama dan variabel rumus luas persegi panjang\n",
    "nama = input('masukkan nama anda : ')\n",
    "panjang = input(\"panjang : \")\n",
    "lebar = input(\"y : \")\n",
    "# Hasil\n",
    "print (\"Nama Anda adalah \", nama)\n",
    "luas = int(panjang) * int(lebar)\n",
    "print (luas)"
   ]
  },
  {
   "cell_type": "code",
   "execution_count": 1,
   "metadata": {},
   "outputs": [
    {
     "name": "stdin",
     "output_type": "stream",
     "text": [
      "masukkan data boolean :  2131\n"
     ]
    },
    {
     "name": "stdout",
     "output_type": "stream",
     "text": [
      "isi variabel_bool :  2131\n"
     ]
    },
    {
     "name": "stdin",
     "output_type": "stream",
     "text": [
      "masukkan data float :  321\n"
     ]
    },
    {
     "name": "stdout",
     "output_type": "stream",
     "text": [
      "isi variabel_float :  321\n"
     ]
    },
    {
     "name": "stdin",
     "output_type": "stream",
     "text": [
      "masukkan data string :  hai\n"
     ]
    },
    {
     "name": "stdout",
     "output_type": "stream",
     "text": [
      "isi variabel_string :  hai\n"
     ]
    },
    {
     "name": "stdin",
     "output_type": "stream",
     "text": [
      "masukkan data octal :  010\n"
     ]
    },
    {
     "name": "stdout",
     "output_type": "stream",
     "text": [
      "isi variabel_octal :  010\n"
     ]
    },
    {
     "name": "stdin",
     "output_type": "stream",
     "text": [
      "masukkan data hexa :  0x114\n"
     ]
    },
    {
     "name": "stdout",
     "output_type": "stream",
     "text": [
      "isi variabel_hexa :  0x114\n"
     ]
    },
    {
     "name": "stdin",
     "output_type": "stream",
     "text": [
      "masukkan data long :  312312321321\n"
     ]
    },
    {
     "name": "stdout",
     "output_type": "stream",
     "text": [
      "isi variabel_long :  312312321321\n"
     ]
    },
    {
     "name": "stdin",
     "output_type": "stream",
     "text": [
      "masukkan data dictionary :  {'nama':'Azhea', 'hobi':'tidur', 'asal':'Moskow'}\n"
     ]
    },
    {
     "name": "stdout",
     "output_type": "stream",
     "text": [
      "isi variabel_dict :  {'nama':'Azhea', 'hobi':'tidur', 'asal':'Moskow'}\n"
     ]
    },
    {
     "name": "stdin",
     "output_type": "stream",
     "text": [
      "masukkan data list :  [1,2,4]\n"
     ]
    },
    {
     "name": "stdout",
     "output_type": "stream",
     "text": [
      "isi variabel_list :  [1,2,4]\n"
     ]
    },
    {
     "name": "stdin",
     "output_type": "stream",
     "text": [
      "masukkan data tuple :  (123213,231312)\n"
     ]
    },
    {
     "name": "stdout",
     "output_type": "stream",
     "text": [
      "isi variabel_tuple :  (123213,231312)\n"
     ]
    }
   ],
   "source": [
    "# meminta input boolean : coba masukkan True\n",
    "variabel_bool = input('masukkan data boolean : ')\n",
    "print (\"isi variabel_bool : \", variabel_bool)\n",
    "\n",
    "# meminta input float : coba masukkan 3.14\n",
    "variabel_float = input('masukkan data float : ')\n",
    "print (\"isi variabel_float : \", variabel_float)\n",
    "\n",
    "# meminta input string : coba masukkan “lagi belajar python”\n",
    "variabel_string = input('masukkan data string : ')\n",
    "print (\"isi variabel_string : \", variabel_string)\n",
    "\n",
    "# meminta input octal : coba masukkan 010\n",
    "variabel_octal = input('masukkan data octal : ')\n",
    "print (\"isi variabel_octal : \", variabel_octal)\n",
    "\n",
    "# meminta input hexa : coba masukkan 0x114\n",
    "variabel_hexa = input('masukkan data hexa : ')\n",
    "print (\"isi variabel_hexa : \", variabel_hexa)\n",
    "\n",
    "# meminta input long : coba masukkan 123456789123456789L\n",
    "variabel_long = input('masukkan data long : ')\n",
    "print (\"isi variabel_long : \", variabel_long)\n",
    "\n",
    "# meminta input dictionary : coba masukkan {'nama':'Azhea', 'hobi':'tidur', 'asal':'Moskow'}\n",
    "variabel_dict = input('masukkan data dictionary : ')\n",
    "print (\"isi variabel_dict : \", variabel_dict)\n",
    "\n",
    "# meminta input list : coba masukkan [1, 2, 3, 4, 5]\n",
    "variabel_list = input('masukkan data list : ')\n",
    "print (\"isi variabel_list : \", variabel_list)\n",
    "\n",
    "# meminta input tuple : coba masukkan (1, 2, 3, 4, 5)\n",
    "variabel_tuple = input('masukkan data tuple : ')\n",
    "print (\"isi variabel_tuple : \", variabel_tuple)"
   ]
  },
  {
   "cell_type": "markdown",
   "metadata": {},
   "source": [
    "### 3. Tipe Data dan Operator"
   ]
  },
  {
   "cell_type": "code",
   "execution_count": 8,
   "metadata": {},
   "outputs": [
    {
     "name": "stdout",
     "output_type": "stream",
     "text": [
      "Hasil penjumlahan :  17\n",
      "Hasilpengurangan  :  3\n",
      "Hasil pembagian   :  1.4285714285714286\n",
      "Hasil modulo      :  3\n",
      "Hasil pemangkatan :  10000000\n",
      "Hasil pengakaran  :  1\n"
     ]
    }
   ],
   "source": [
    "# Operator Aritmatika\n",
    "a = 10\n",
    "b = 7\n",
    "# Buat rumus aritmatikanya\n",
    "hasil1 = a + b\n",
    "hasil2 = a - b\n",
    "hasil3 = a / b\n",
    "hasil4 = a % b\n",
    "hasil5 = a ** b\n",
    "hasil6 = a // b\n",
    "# Cetak hasil\n",
    "print (\"Hasil penjumlahan : \", hasil1)\n",
    "print (\"Hasilpengurangan  : \", hasil2) \n",
    "print (\"Hasil pembagian   : \", hasil3)\n",
    "print (\"Hasil modulo      : \", hasil4)\n",
    "print (\"Hasil pemangkatan : \", hasil5)\n",
    "print (\"Hasil pengakaran  : \", hasil6)"
   ]
  },
  {
   "cell_type": "code",
   "execution_count": 11,
   "metadata": {},
   "outputs": [
    {
     "name": "stdout",
     "output_type": "stream",
     "text": [
      "Hasil Operan 1 : True\n",
      "Hasil Operan 2 : False\n",
      "Hasil Operan 3 : False\n",
      "Hasil Operan 4 : True\n",
      "Hasil Operan 5 : False\n",
      "Hasil Operan 6 : False\n",
      "Hasil Operan 7 : True\n",
      "Hasil Operan 8 : False\n"
     ]
    }
   ],
   "source": [
    "# Operator Perbandingan (Comparasi)\n",
    "a = 50\n",
    "b = 50\n",
    "c = 9\n",
    "# Buat rumusnya\n",
    "hasil1a = a == b\n",
    "hasil1b = a == c\n",
    "hasil2a = a != b\n",
    "hasil2b = a != c\n",
    "hasil3a = a > b\n",
    "hasil3b = a < c\n",
    "hasil3c = a >= b\n",
    "hasil3d = a <= c\n",
    "#Cetak hasil\n",
    "print (\"Hasil Operan 1 :\", hasil1a)\n",
    "print (\"Hasil Operan 2 :\", hasil1b)\n",
    "print (\"Hasil Operan 3 :\", hasil2a)\n",
    "print (\"Hasil Operan 4 :\", hasil2b)\n",
    "print (\"Hasil Operan 5 :\", hasil3a)\n",
    "print (\"Hasil Operan 6 :\", hasil3b)\n",
    "print (\"Hasil Operan 7 :\", hasil3c)\n",
    "print (\"Hasil Operan 8 :\", hasil3d)"
   ]
  },
  {
   "cell_type": "code",
   "execution_count": 25,
   "metadata": {},
   "outputs": [
    {
     "name": "stdout",
     "output_type": "stream",
     "text": [
      "(42, 23)\n",
      "25\n",
      "325\n",
      "1910\n",
      "1094.75\n",
      "1\n",
      "32255124262657651143441\n",
      "31289.0\n"
     ]
    }
   ],
   "source": [
    "# Operator Penugasan (Assigment)\n",
    "a,b = 42,23\n",
    "a1 = 23\n",
    "b2 = 328\n",
    "a3 = 382\n",
    "b4 = 4379\n",
    "a5 = 3213\n",
    "b6 = 423789\n",
    "a7 = 3129\n",
    "# Buat rumus penugasan\n",
    "hasil1 = a,b\n",
    "a1 += 2\n",
    "b2 -= 3\n",
    "a3 *= 5\n",
    "b4 /= 4\n",
    "a5 %= 2\n",
    "b6 **= 4\n",
    "a7 //=0.1\n",
    "\n",
    "# Cetaklah...\n",
    "print (hasil1)\n",
    "print (a1)\n",
    "print (b2)\n",
    "print (a3)\n",
    "print (b4)\n",
    "print (a5)\n",
    "print (b6)\n",
    "print (a7)"
   ]
  },
  {
   "cell_type": "code",
   "execution_count": 29,
   "metadata": {},
   "outputs": [
    {
     "name": "stdout",
     "output_type": "stream",
     "text": [
      "2323\n",
      "5454\n",
      "False\n",
      "False\n"
     ]
    }
   ],
   "source": [
    "# Operator Logika\n",
    "a = 5454\n",
    "b = 2323\n",
    "# Rumus\n",
    "hasil1 = a and b\n",
    "hasil2 = a or b\n",
    "# Cetak lagi....\n",
    "print (hasil1)\n",
    "print (hasil2)\n",
    "print (not a)\n",
    "print (not b)"
   ]
  },
  {
   "cell_type": "code",
   "execution_count": 30,
   "metadata": {},
   "outputs": [
    {
     "name": "stdout",
     "output_type": "stream",
     "text": [
      "False\n",
      "True\n"
     ]
    }
   ],
   "source": [
    "# Operator Identitas\n",
    "a, b = 321, 432423\n",
    "# Rumus\n",
    "hasil1 = a is b\n",
    "hasil2 = a is not b\n",
    "# Cetak......\n",
    "print (hasil1)\n",
    "print (hasil2)"
   ]
  }
 ],
 "metadata": {
  "kernelspec": {
   "display_name": "Python 3",
   "language": "python",
   "name": "python3"
  },
  "language_info": {
   "codemirror_mode": {
    "name": "ipython",
    "version": 3
   },
   "file_extension": ".py",
   "mimetype": "text/x-python",
   "name": "python",
   "nbconvert_exporter": "python",
   "pygments_lexer": "ipython3",
   "version": "3.7.1"
  }
 },
 "nbformat": 4,
 "nbformat_minor": 2
}
