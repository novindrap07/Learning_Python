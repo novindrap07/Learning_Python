{
 "cells": [
  {
   "cell_type": "markdown",
   "metadata": {},
   "source": [
    "# Learning Python (Part 2)\n",
    "\n",
    "### 1. About \"IF-Else\"\n",
    "### 2. \"Do - While\" Condition\n",
    "### 3. List, Tuple, dan Dictionary"
   ]
  },
  {
   "cell_type": "markdown",
   "metadata": {},
   "source": [
    "### 1. If - Else\n",
    "\n",
    "#### Dalam pemrograman ada mekanisme dimana program akan menentukan aksi – aksi sesuai kondisi dari input atau nilai – nilai yang diproses selama program berjalan langsung. Pemilihan kondisi ini membutuhkan nilai “True” jika aksi yang diinginkan dibawah kondisi tersebut dieksekusi. Jika nilainya “False”, maka akan diperiksa kondisi lain yang sesuai atau akan langsung ke bagian program yang tidak memeriksa kondisi."
   ]
  },
  {
   "cell_type": "markdown",
   "metadata": {},
   "source": [
    "#### 1.1 IF"
   ]
  },
  {
   "cell_type": "code",
   "execution_count": 9,
   "metadata": {},
   "outputs": [
    {
     "name": "stdout",
     "output_type": "stream",
     "text": [
      "Masukkan dua buah angka..\n",
      "Dan Anda akan check hubungan kedua angka tersebut\n"
     ]
    },
    {
     "name": "stdin",
     "output_type": "stream",
     "text": [
      "Masukkan angka pertama :  321\n",
      "Masukkan angka kedua :  434\n"
     ]
    },
    {
     "name": "stdout",
     "output_type": "stream",
     "text": [
      "321 tidak sama dengan 434\n",
      "321 kurang dari 434\n",
      "321 kurang dari sama dengan 434\n"
     ]
    }
   ],
   "source": [
    "# Masukkan sebuah kalimat\n",
    "print (\"Masukkan dua buah angka..\")\n",
    "print (\"Dan Anda akan check hubungan kedua angka tersebut\")\n",
    "\n",
    "# Masukkan variabel input\n",
    "angka1 = input(\"Masukkan angka pertama : \")\n",
    "angka1 = int(angka1)\n",
    "angka2 = input(\"Masukkan angka kedua : \")\n",
    "angka2 = int(angka2)\n",
    "\n",
    "# Statement 1\n",
    "if angka1 == angka2 :\n",
    "    print (('%d sama dengan %d') % (angka1, angka2))\n",
    "if angka1 != angka2 :\n",
    "    print (('%d tidak sama dengan %d') % (angka1, angka2))\n",
    "# Statement 2    \n",
    "if angka1 < angka2 :\n",
    "    print ((\"%d kurang dari %d\") % (angka1, angka2))\n",
    "if angka1 > angka2 :\n",
    "    print ((\"%d lebih dari %d\") % (angka1, angka2))\n",
    "# Statement 3    \n",
    "if angka1 <= angka2 :\n",
    "    print ((\"%d kurang dari sama dengan %d\") % (angka1, angka2))\n",
    "if angka1 >= angka2 :\n",
    "    print ((\"%d lebih dari sama dengan %d\") % (angka1, angka2))"
   ]
  },
  {
   "cell_type": "markdown",
   "metadata": {},
   "source": [
    "#### 1.2 IF - ELSE"
   ]
  },
  {
   "cell_type": "code",
   "execution_count": 11,
   "metadata": {},
   "outputs": [
    {
     "name": "stdout",
     "output_type": "stream",
     "text": [
      "Masukkan dua buah angka..\n",
      "Dan Anda akan check hubungan kedua angka tersebut\n"
     ]
    },
    {
     "name": "stdin",
     "output_type": "stream",
     "text": [
      "Masukkan angka pertama :  321\n",
      "Masukkan angka kedua :  3\n"
     ]
    },
    {
     "name": "stdout",
     "output_type": "stream",
     "text": [
      "321 tidak sama dengan 3\n"
     ]
    }
   ],
   "source": [
    "# Masukkan kalimat\n",
    "print (\"Masukkan dua buah angka..\")\n",
    "print (\"Dan Anda akan check hubungan kedua angka tersebut\")\n",
    "\n",
    "# Masukkan variabel input\n",
    "angka1 = input(\"Masukkan angka pertama : \")\n",
    "angka1 = int(angka1)\n",
    "angka2 = input(\"Masukkan angka kedua : \")\n",
    "angka2 = int(angka2)\n",
    "\n",
    "# Kondisi If - Else\n",
    "if angka1 == angka2 :\n",
    "    print ((\"%d sama dengan %d\") % (angka1, angka2))\n",
    "else:\n",
    "    print ((\"%d tidak sama dengan %d\") % (angka1, angka2))"
   ]
  },
  {
   "cell_type": "code",
   "execution_count": 16,
   "metadata": {},
   "outputs": [
    {
     "name": "stdin",
     "output_type": "stream",
     "text": [
      "masukkan username :  sasa\n",
      "masukkan password :  sasa\n"
     ]
    },
    {
     "name": "stdout",
     "output_type": "stream",
     "text": [
      "User tidak terdaftar\n"
     ]
    }
   ],
   "source": [
    "# Membuat logika login sederhana\n",
    "username = input(\"masukkan username : \")\n",
    "password = input(\"masukkan password : \")\n",
    "username_from_db = (\"user\")\n",
    "password_from_db = (\"admin\")\n",
    "\n",
    "# Masukkan kondisi if - else\n",
    "if username == username_from_db :\n",
    "    if password == password_from_db :\n",
    "        print (\"Username dan password cocok \")\n",
    "    else:\n",
    "        print (\"Password salah \")\n",
    "else:\n",
    "    print (\"User tidak terdaftar\")"
   ]
  },
  {
   "cell_type": "markdown",
   "metadata": {},
   "source": [
    "#### 1.3 Elif"
   ]
  },
  {
   "cell_type": "code",
   "execution_count": 20,
   "metadata": {},
   "outputs": [
    {
     "name": "stdout",
     "output_type": "stream",
     "text": [
      "Masukkan dua buah angka..\n",
      "Dan Anda akan check hubungan kedua angka tersebut\n"
     ]
    },
    {
     "name": "stdin",
     "output_type": "stream",
     "text": [
      "Masukkan angka pertama :  1\n",
      "Masukkan angka kedua :  11\n"
     ]
    },
    {
     "name": "stdout",
     "output_type": "stream",
     "text": [
      "1 tidak sama dengan 11\n"
     ]
    }
   ],
   "source": [
    "# Masukkan kalimatnya...\n",
    "print (\"Masukkan dua buah angka..\")\n",
    "print (\"Dan Anda akan check hubungan kedua angka tersebut\")\n",
    "\n",
    "# Masukkan variabel input\n",
    "angka1 = input(\"Masukkan angka pertama : \")\n",
    "angka1 = int(angka1)\n",
    "angka2 = input(\"Masukkan angka kedua : \")\n",
    "angka2 = int(angka2)\n",
    "\n",
    "# Masukkan kondisi elif\n",
    "if angka1 == angka2 :\n",
    "    print ((\"%d sama dengan %d\") % (angka1, angka2))\n",
    "elif angka1 != angka2 :\n",
    "    print ((\"%d tidak sama dengan %d\") % (angka1, angka2))\n",
    "elif angka1 < angka2 :\n",
    "    print ((\"%d kurang dari %d\") % (angka1, angka2))\n",
    "elif angka1 > angka2 :\n",
    "    print ((\"%d lebih dari %d\") % (angka1, angka2))\n",
    "elif angka1 <= angka2 :\n",
    "    print ((\"%d kurang dari sama dengan %d\") % (angka1, angka2))\n",
    "elif angka1 >= angka2 :\n",
    "    print ((\"%d lebih dari sama dengan %d\") % (angka1, angka2))"
   ]
  },
  {
   "cell_type": "markdown",
   "metadata": {},
   "source": [
    "### 2. Pengulangan (Looping)"
   ]
  },
  {
   "cell_type": "markdown",
   "metadata": {},
   "source": [
    "### Pada umumnya pengulangan terdiri dua jenis. Ada pengulangan yang terbatas dan tidak terbatas. Pengulangan terbatas biasanya dilakukan pengulangan dari 1 hingga kesekian kali (n kali). Perulangan terbatas menggunakan for. Sedangkan pengulangan tidak terbatas menggunakan while. Dalam pengulangan menggunakan while pengulangan akan terus dilakukan selama kondisional dalam perulangan while tetap dalam keadaan true jika dalam keadaan false maka pengulangan while akan berhenti."
   ]
  },
  {
   "cell_type": "markdown",
   "metadata": {},
   "source": [
    "#### 2.1 For"
   ]
  },
  {
   "cell_type": "code",
   "execution_count": 12,
   "metadata": {},
   "outputs": [
    {
     "name": "stdout",
     "output_type": "stream",
     "text": [
      "Ini pengulangan ke -  1\n",
      "Ini pengulangan ke -  2\n",
      "Ini pengulangan ke -  3\n",
      "Ini pengulangan ke -  4\n",
      "Ini pengulangan ke -  5\n",
      "Ini pengulangan ke -  6\n"
     ]
    }
   ],
   "source": [
    "#pengulangan sebanyak 5 kali\n",
    "for i in [1, 2, 3, 4, 5, 6]: \n",
    "    print ((\"Ini pengulangan ke - \"), i)"
   ]
  },
  {
   "cell_type": "code",
   "execution_count": 10,
   "metadata": {},
   "outputs": [
    {
     "name": "stdout",
     "output_type": "stream",
     "text": [
      "Rawon  adalah masakan khas nusantara ...\n",
      "Nasi Kuning  adalah masakan khas nusantara ...\n",
      "Soto Madura  adalah masakan khas nusantara ...\n",
      "Kupat Tahu  adalah masakan khas nusantara ...\n",
      "Kerak Telor  adalah masakan khas nusantara ...\n",
      "Rendang Batoko  adalah masakan khas nusantara ...\n",
      "Pempek Selam  adalah masakan khas nusantara ...\n",
      "Ayam Betutu  adalah masakan khas nusantara ...\n"
     ]
    }
   ],
   "source": [
    "# pengulangan sebanyak 8 kali\n",
    "for p in [\"Rawon\", \"Nasi Kuning\", \"Soto Madura\", \"Kupat Tahu\", \"Kerak Telor\", \n",
    "          \"Rendang Batoko\", \"Pempek Selam\", \"Ayam Betutu\"] :\n",
    "    print (p, (\" adalah masakan khas nusantara ...\"))"
   ]
  },
  {
   "cell_type": "code",
   "execution_count": 8,
   "metadata": {},
   "outputs": [
    {
     "name": "stdout",
     "output_type": "stream",
     "text": [
      "a  adalah alfabet\n",
      "b  adalah alfabet\n",
      "c  adalah alfabet\n",
      "d  adalah alfabet\n",
      "e  adalah alfabet\n"
     ]
    }
   ],
   "source": [
    "# pengulangan sebanyak 5 kali\n",
    "for i in \"abcde\":\n",
    "    print (i, (\" adalah alfabet\"))"
   ]
  },
  {
   "cell_type": "markdown",
   "metadata": {},
   "source": [
    "#### 2.2 Range"
   ]
  },
  {
   "cell_type": "code",
   "execution_count": 25,
   "metadata": {},
   "outputs": [
    {
     "name": "stdout",
     "output_type": "stream",
     "text": [
      "2 \n",
      "\n",
      "3 \n",
      "\n",
      "4 \n",
      "\n",
      "5 \n",
      "\n",
      "6 \n",
      "\n",
      "7 \n",
      "\n",
      "8 \n",
      "\n",
      "9 \n",
      "\n",
      "11 \n",
      "\n",
      "12 \n",
      "\n",
      "13 \n",
      "\n",
      "14 \n",
      "\n",
      "15 \n",
      "\n",
      "16 \n",
      "\n",
      "17 \n",
      "\n",
      "18 \n",
      "\n",
      "19 \n",
      "\n"
     ]
    }
   ],
   "source": [
    "## RUMUS : range(start, stop, step)\n",
    "# kasus - 1 : jika step tidak disertakan maka step akan diisi 1 secara default\n",
    "aku = range(2, 10)\n",
    "kamu = range(11,15)\n",
    "dia = range(15,20)\n",
    "for a in aku:\n",
    "    print ((a),\"\\n\")\n",
    "\n",
    "for b in kamu:\n",
    "    print ((b),\"\\n\")\n",
    "    \n",
    "for c in dia:\n",
    "    print ((c),\"\\n\")"
   ]
  },
  {
   "cell_type": "code",
   "execution_count": 40,
   "metadata": {},
   "outputs": [
    {
     "name": "stdout",
     "output_type": "stream",
     "text": [
      "1 \n",
      "\n",
      "3 \n",
      "\n",
      "5 \n",
      "\n",
      "7 \n",
      "\n",
      "9 \n",
      "\n",
      "1\n",
      "4\n",
      "7\n",
      "1 \n",
      "\n",
      "5 \n",
      "\n",
      "9 \n",
      "\n",
      "1\n",
      "6\n"
     ]
    }
   ],
   "source": [
    "# kasus - 2 : jika step disertakan maka step akan sesuai dengan angka yang diisikan\n",
    "a = range(1, 10, 2)\n",
    "b = range(1, 10, 3)\n",
    "c = range(1, 10, 4)\n",
    "d = range(1, 10, 5)\n",
    "for i in a:\n",
    "    print ((i), \"\\n\")\n",
    "for j in b:\n",
    "    print (j)\n",
    "for k in c:\n",
    "    print ((k), \"\\n\")\n",
    "for l in d:\n",
    "    print (l)    "
   ]
  },
  {
   "cell_type": "code",
   "execution_count": 17,
   "metadata": {},
   "outputs": [
    {
     "name": "stdout",
     "output_type": "stream",
     "text": [
      "1\n"
     ]
    }
   ],
   "source": [
    "# kasus - 3 : jika step melebihi stop maka list hanya akan berisi start\n",
    "tes = range(1, 10, 11)\n",
    "for i in tes:\n",
    "    print (i)"
   ]
  },
  {
   "cell_type": "code",
   "execution_count": 26,
   "metadata": {},
   "outputs": [],
   "source": [
    "# kasus - 4 : jika start lebih besar nilainya daripada stop maka list akan kosong\n",
    "hmm = range(10, 1)\n",
    "for j in hmm:\n",
    "    print (j)"
   ]
  },
  {
   "cell_type": "code",
   "execution_count": 28,
   "metadata": {},
   "outputs": [
    {
     "name": "stdout",
     "output_type": "stream",
     "text": [
      "1\n",
      "1\n",
      "2\n",
      "3\n",
      "4\n",
      "5\n",
      "6\n",
      "7\n",
      "8\n",
      "9\n",
      "10\n"
     ]
    }
   ],
   "source": [
    "# kasus - 5 : jika start lebih besar nilainya daripada stop dan\n",
    "# jika step melebihi stop maka list akan kosong\n",
    "a1 = range( 1, 2)\n",
    "a2 = range( 1, 11)\n",
    "\n",
    "#a1\n",
    "for i in a1:\n",
    "    print (i)\n",
    "for j in a2:\n",
    "    print (j)"
   ]
  },
  {
   "cell_type": "code",
   "execution_count": 20,
   "metadata": {},
   "outputs": [
    {
     "name": "stdout",
     "output_type": "stream",
     "text": [
      "10\n",
      "9\n",
      "8\n",
      "7\n",
      "6\n",
      "5\n",
      "4\n",
      "3\n",
      "2\n"
     ]
    }
   ],
   "source": [
    "# kasus - 6 : jika start lebih besar daripada stop dan step bernilai minus\n",
    "# dan jika start dikurangi step menghasilkan angka positif\n",
    "# maka list akan berisi deret angka menurun\n",
    "b1 = range(10, 1, -1)\n",
    "for i in b1:\n",
    "    print (i)"
   ]
  },
  {
   "cell_type": "code",
   "execution_count": 21,
   "metadata": {},
   "outputs": [
    {
     "name": "stdout",
     "output_type": "stream",
     "text": [
      "10\n"
     ]
    }
   ],
   "source": [
    "# kasus - 7 : jika start lebih besar daripada stop dan step bernilai minus\n",
    "# dan jika start dikurangi step bernilai minus maka list hanya akan berisi start\n",
    "pusing = range(10, 1, -11)\n",
    "for qq in pusing:\n",
    "    print (qq)"
   ]
  },
  {
   "cell_type": "code",
   "execution_count": 30,
   "metadata": {},
   "outputs": [
    {
     "name": "stdout",
     "output_type": "stream",
     "text": [
      "1\n",
      "2\n",
      "3\n",
      "4\n",
      "5\n",
      "6\n",
      "7\n",
      "8\n",
      "9\n"
     ]
    }
   ],
   "source": [
    "# kasus - 8 : jika step bernilai 0 maka akan terjadi error\n",
    "aku = range(1, 10, )\n",
    "for bn in aku:\n",
    "    print (bn)"
   ]
  },
  {
   "cell_type": "code",
   "execution_count": 23,
   "metadata": {},
   "outputs": [
    {
     "ename": "ValueError",
     "evalue": "range() arg 3 must not be zero",
     "output_type": "error",
     "traceback": [
      "\u001b[0;31m---------------------------------------------------------------------------\u001b[0m",
      "\u001b[0;31mValueError\u001b[0m                                Traceback (most recent call last)",
      "\u001b[0;32m<ipython-input-23-151e4ae522a9>\u001b[0m in \u001b[0;36m<module>\u001b[0;34m\u001b[0m\n\u001b[1;32m      1\u001b[0m \u001b[0;31m# kasus - 9 : jika start lebih besar daripada stop dan step bernilai 0 maka akan terjadi error\u001b[0m\u001b[0;34m\u001b[0m\u001b[0;34m\u001b[0m\u001b[0;34m\u001b[0m\u001b[0m\n\u001b[0;32m----> 2\u001b[0;31m \u001b[0mkamu\u001b[0m \u001b[0;34m=\u001b[0m \u001b[0mrange\u001b[0m\u001b[0;34m(\u001b[0m\u001b[0;36m10\u001b[0m\u001b[0;34m,\u001b[0m \u001b[0;36m1\u001b[0m\u001b[0;34m,\u001b[0m \u001b[0;36m0\u001b[0m\u001b[0;34m)\u001b[0m\u001b[0;34m\u001b[0m\u001b[0;34m\u001b[0m\u001b[0m\n\u001b[0m\u001b[1;32m      3\u001b[0m \u001b[0;32mfor\u001b[0m \u001b[0maj\u001b[0m \u001b[0;32min\u001b[0m \u001b[0mkamu\u001b[0m\u001b[0;34m:\u001b[0m\u001b[0;34m\u001b[0m\u001b[0;34m\u001b[0m\u001b[0m\n\u001b[1;32m      4\u001b[0m     \u001b[0mprint\u001b[0m \u001b[0;34m(\u001b[0m\u001b[0maj\u001b[0m\u001b[0;34m)\u001b[0m\u001b[0;34m\u001b[0m\u001b[0;34m\u001b[0m\u001b[0m\n",
      "\u001b[0;31mValueError\u001b[0m: range() arg 3 must not be zero"
     ]
    }
   ],
   "source": [
    "# kasus - 9 : jika start lebih besar daripada stop dan step bernilai 0 maka akan terjadi error\n",
    "kamu = range(10, 1, 0)\n",
    "for aj in kamu:\n",
    "    print (aj)"
   ]
  },
  {
   "cell_type": "code",
   "execution_count": 49,
   "metadata": {},
   "outputs": [
    {
     "name": "stdout",
     "output_type": "stream",
     "text": [
      "x\n",
      "\n",
      "*\n",
      "x\n",
      "\n",
      "*\n",
      "*\n",
      "x\n",
      "\n",
      "*\n",
      "*\n",
      "*\n",
      "x\n",
      "\n",
      "*\n",
      "*\n",
      "*\n",
      "*\n",
      "x\n",
      "\n",
      "*\n",
      "*\n",
      "*\n",
      "*\n",
      "*\n",
      "x\n",
      "\n",
      "*\n",
      "*\n",
      "*\n",
      "*\n",
      "*\n",
      "*\n",
      "x\n",
      "\n",
      "*\n",
      "*\n",
      "*\n",
      "*\n",
      "*\n",
      "*\n",
      "*\n",
      "x\n",
      "\n",
      "*\n",
      "*\n",
      "*\n",
      "*\n",
      "*\n",
      "*\n",
      "*\n",
      "*\n",
      "x\n",
      "\n",
      "*\n",
      "*\n",
      "*\n",
      "*\n",
      "*\n",
      "*\n",
      "*\n",
      "*\n",
      "*\n",
      "x\n",
      "\n"
     ]
    }
   ],
   "source": [
    "# pengulangan_6.py\n",
    "for i in range(0, 10):\n",
    "    for j in range (0, i+1):\n",
    "        if j == i:\n",
    "            print (\"x\")\n",
    "        else:\n",
    "            print (\"*\")\n",
    "    print (\"\")"
   ]
  },
  {
   "cell_type": "code",
   "execution_count": 50,
   "metadata": {},
   "outputs": [
    {
     "name": "stdout",
     "output_type": "stream",
     "text": [
      "1  bukanlah bilangan prima\n",
      "2  adalah bilangan prima\n",
      "3  adalah bilangan prima\n",
      "4  bukanlah bilangan prima\n",
      "5  adalah bilangan prima\n",
      "6  bukanlah bilangan prima\n",
      "7  adalah bilangan prima\n",
      "8  bukanlah bilangan prima\n",
      "9  bukanlah bilangan prima\n",
      "10  bukanlah bilangan prima\n",
      "11  adalah bilangan prima\n",
      "12  bukanlah bilangan prima\n",
      "13  adalah bilangan prima\n",
      "14  bukanlah bilangan prima\n",
      "15  bukanlah bilangan prima\n",
      "16  bukanlah bilangan prima\n",
      "17  adalah bilangan prima\n",
      "18  bukanlah bilangan prima\n",
      "19  adalah bilangan prima\n"
     ]
    }
   ],
   "source": [
    "# pengulangan_7.py\n",
    "for i in range(1, 20):\n",
    "    count_zero_remainder = 0\n",
    "    for j in range(1, i+1):\n",
    "        num_remainder = i % j\n",
    "        #print num_remainder,\n",
    "        if num_remainder == 0:\n",
    "            count_zero_remainder = count_zero_remainder + 1\n",
    "\n",
    "    if count_zero_remainder == 2:\n",
    "        print (i, (\" adalah bilangan prima\"))\n",
    "    else:\n",
    "        print (i, (\" bukanlah bilangan prima\"))"
   ]
  },
  {
   "cell_type": "markdown",
   "metadata": {},
   "source": [
    "#### 2.3 While"
   ]
  },
  {
   "cell_type": "code",
   "execution_count": 51,
   "metadata": {},
   "outputs": [
    {
     "name": "stdout",
     "output_type": "stream",
     "text": [
      "Aku sudah berjalan sebanyak  0  langkah \n",
      "Aku sudah berjalan sebanyak  1  langkah \n",
      "Aku sudah berjalan sebanyak  2  langkah \n",
      "Aku sudah berjalan sebanyak  3  langkah \n",
      "Aku sudah berjalan sebanyak  4  langkah \n",
      "Aku sudah berjalan sebanyak  5  langkah \n",
      "Aku sudah berjalan sebanyak  6  langkah \n",
      "Aku sudah berjalan sebanyak  7  langkah \n",
      "Aku sudah berjalan sebanyak  8  langkah \n",
      "Aku sudah berjalan sebanyak  9  langkah \n"
     ]
    }
   ],
   "source": [
    "angka = 0\n",
    "while (angka < 10):\n",
    "    print ((\"Aku sudah berjalan sebanyak \"), angka, (\" langkah \"))\n",
    "    angka += 1"
   ]
  },
  {
   "cell_type": "code",
   "execution_count": 24,
   "metadata": {},
   "outputs": [
    {
     "name": "stdin",
     "output_type": "stream",
     "text": [
      "masukkan angka kurang dari 10 !! :  1\n"
     ]
    }
   ],
   "source": [
    "terus_tanya = True\n",
    "while terus_tanya :\n",
    "    temp = input('masukkan angka kurang dari 10 !! : ')\n",
    "    angka = int(temp)\n",
    "    if angka < 10:\n",
    "        terus_tanya = False\n",
    "    else:\n",
    "        terus_tanya = True"
   ]
  },
  {
   "cell_type": "code",
   "execution_count": 54,
   "metadata": {},
   "outputs": [
    {
     "name": "stdout",
     "output_type": "stream",
     "text": [
      "loop ke - 1 : 0 + 1\n",
      "loop ke - 2 : 1 + 2\n",
      "loop ke - 3 : 3 + 3\n",
      "loop ke - 4 : 6 + 4\n",
      "loop ke - 5 : 10 + 5\n",
      "loop ke - 6 : 15 + 6\n",
      "loop ke - 7 : 21 + 7\n",
      "loop ke - 8 : 28 + 8\n",
      "loop ke - 9 : 36 + 9\n",
      "loop ke - 10 : 45 + 10\n",
      "total angka yang dijumlahkan :  55\n"
     ]
    }
   ],
   "source": [
    "i = 1\n",
    "jml_angka = 0\n",
    "\n",
    "while i <= 10:\n",
    "    print (('loop ke - %d : %d + %d') % (i, jml_angka, i))\n",
    "    jml_angka = jml_angka + i\n",
    "    i += 1\n",
    "print (('total angka yang dijumlahkan : '), jml_angka)"
   ]
  },
  {
   "cell_type": "markdown",
   "metadata": {},
   "source": [
    "### 3. List, Tuple, dan Dictionary\n",
    "\n",
    "#### Di Python sendiri, terdapat beberapa tipe struktur data yang dapat digunakan oleh penggunanya. Tapi tiga tipe data yang umum digunakan, diantaranya list, tuple, dan dictionary. Ketiga tipe data struktur ini sangat membantu sekali bagi programmer Python yang membutuhkan tipe data banyak. Ketiga tipe data ini adalah objek Python yang berarti jika Anda mendefinisikan struktur data tersebut, Anda dapat menggunakan method – method yang berhubungan dengan pengolahan struktur data tersebut. Selain itu terdapat pula function untuk mengolah tiga struktur data tadi seperti mencari nilai max, min, hitung panjang, dan perbandingan isi."
   ]
  },
  {
   "cell_type": "code",
   "execution_count": 96,
   "metadata": {},
   "outputs": [],
   "source": [
    "# Definisikan datanya\n",
    "ini_list = ['Hiu', 'Serigala', 'Macan', 'Badak', 'Ular']\n",
    "itu_tuple = (0, 1, 2, 3, 4, 5)\n",
    "ono_dictionary = {'Nama : ' 'N.Pras',\n",
    "                 'Umur: ' '21',\n",
    "                 'Lahir : ' 'Istanbul',\n",
    "                 'Hobi : ' 'Tidur'}"
   ]
  },
  {
   "cell_type": "code",
   "execution_count": 58,
   "metadata": {},
   "outputs": [
    {
     "name": "stdout",
     "output_type": "stream",
     "text": [
      "['Hiu', 'Serigala', 'Macan', 'Badak', 'Ular']\n",
      "(0, 1, 2, 3, 4, 5)\n",
      "{'Umur: 21', 'Lahir : Istanbul', 'Hobi : Tidur', 'Nama : N.Pras'}\n"
     ]
    }
   ],
   "source": [
    "# Cetak list, tuple, dan dictionary\n",
    "print (ini_list)\n",
    "print (itu_tuple)\n",
    "print (ono_dictionary)"
   ]
  },
  {
   "cell_type": "code",
   "execution_count": 66,
   "metadata": {},
   "outputs": [
    {
     "name": "stdout",
     "output_type": "stream",
     "text": [
      "Macan\n",
      "(0, 1, 2)\n",
      "['Badak']\n"
     ]
    }
   ],
   "source": [
    "# Cetak beberapa\n",
    "print (ini_list [2])\n",
    "print (itu_tuple [:3])\n",
    "print (ini_list [3:4])\n",
    "# Untuk dictionary tidak bisa untuk mencetak beberapa"
   ]
  },
  {
   "cell_type": "code",
   "execution_count": 72,
   "metadata": {},
   "outputs": [
    {
     "name": "stdout",
     "output_type": "stream",
     "text": [
      "['Hiu', 'Serigala', 'Harimau', 'Badak', 'Ular']\n"
     ]
    }
   ],
   "source": [
    "# Mengupdate / mengubah isinya\n",
    "ini_list[2] = 'Harimau'\n",
    "print (ini_list)\n",
    "# Untuk tuple tidak bisa untuk mengupdate / mengubah isi datanya"
   ]
  },
  {
   "cell_type": "code",
   "execution_count": 90,
   "metadata": {},
   "outputs": [
    {
     "name": "stdout",
     "output_type": "stream",
     "text": [
      "['Hiu', 'Serigala', 'Macan', 'Badak', 'Ular', 'Banteng', 'Buaya']\n",
      "\n",
      "(0, 1, 2, 3, 4, 5, 100, 200, 300)\n",
      "\n",
      "{'Umur: 21', 'Hobi : Tidur', 'Nama : N.Pras', 'Telp : 081283282328', 'jenis : manusia', 'Lahir : Istanbul'}\n"
     ]
    }
   ],
   "source": [
    "## Menambahkan data\n",
    "# List\n",
    "list_baru = ini_list + ['Banteng', 'Buaya']\n",
    "print (list_baru)\n",
    "print (\"\")\n",
    "# Tuple\n",
    "tuple_baru = itu_tuple + (100, 200, 300)\n",
    "print (tuple_baru)\n",
    "print (\"\")\n",
    "# Dictionary\n",
    "dict_baru = {'Telp : ''081283282328', 'jenis : ''manusia'}\n",
    "ono_dictionary.update(dict_baru)\n",
    "print (ono_dictionary)"
   ]
  },
  {
   "cell_type": "code",
   "execution_count": 98,
   "metadata": {},
   "outputs": [
    {
     "name": "stdout",
     "output_type": "stream",
     "text": [
      "['Hiu', 'Badak', 'Ular']\n",
      "\n"
     ]
    },
    {
     "ename": "TypeError",
     "evalue": "'set' object does not support item deletion",
     "output_type": "error",
     "traceback": [
      "\u001b[0;31m---------------------------------------------------------------------------\u001b[0m",
      "\u001b[0;31mTypeError\u001b[0m                                 Traceback (most recent call last)",
      "\u001b[0;32m<ipython-input-98-6822bbed9d09>\u001b[0m in \u001b[0;36m<module>\u001b[0;34m\u001b[0m\n\u001b[1;32m      8\u001b[0m \u001b[0;34m\u001b[0m\u001b[0m\n\u001b[1;32m      9\u001b[0m \u001b[0;31m# Dictionary\u001b[0m\u001b[0;34m\u001b[0m\u001b[0;34m\u001b[0m\u001b[0;34m\u001b[0m\u001b[0m\n\u001b[0;32m---> 10\u001b[0;31m \u001b[0;32mdel\u001b[0m \u001b[0mono_dictionary\u001b[0m\u001b[0;34m[\u001b[0m\u001b[0;34m\"jenis\"\u001b[0m\u001b[0;34m]\u001b[0m\u001b[0;34m\u001b[0m\u001b[0;34m\u001b[0m\u001b[0m\n\u001b[0m\u001b[1;32m     11\u001b[0m \u001b[0mprint\u001b[0m \u001b[0;34m(\u001b[0m\u001b[0mono_dictionary\u001b[0m\u001b[0;34m)\u001b[0m\u001b[0;34m\u001b[0m\u001b[0;34m\u001b[0m\u001b[0m\n",
      "\u001b[0;31mTypeError\u001b[0m: 'set' object does not support item deletion"
     ]
    }
   ],
   "source": [
    "## Menghapus data\n",
    "# List\n",
    "del ini_list [1]\n",
    "print (ini_list)\n",
    "print (\"\")\n",
    "\n",
    "# Tuple tidak mendukung dalam menghapus data...\n",
    "\n",
    "# Dictionary\n",
    "del ono_dictionary['jenis']\n",
    "print (ono_dictionary)"
   ]
  },
  {
   "cell_type": "code",
   "execution_count": null,
   "metadata": {},
   "outputs": [],
   "source": []
  }
 ],
 "metadata": {
  "kernelspec": {
   "display_name": "Python 3",
   "language": "python",
   "name": "python3"
  },
  "language_info": {
   "codemirror_mode": {
    "name": "ipython",
    "version": 3
   },
   "file_extension": ".py",
   "mimetype": "text/x-python",
   "name": "python",
   "nbconvert_exporter": "python",
   "pygments_lexer": "ipython3",
   "version": "3.7.1"
  }
 },
 "nbformat": 4,
 "nbformat_minor": 2
}
